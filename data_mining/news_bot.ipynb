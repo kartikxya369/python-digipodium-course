{
 "cells": [
  {
   "cell_type": "code",
   "execution_count": 1,
   "metadata": {},
   "outputs": [],
   "source": [
    "import requests\n",
    "from bs4 import BeautifulSoup"
   ]
  },
  {
   "cell_type": "code",
   "execution_count": 2,
   "metadata": {},
   "outputs": [
    {
     "name": "stdout",
     "output_type": "stream",
     "text": [
      "status 200\n"
     ]
    }
   ],
   "source": [
    "url = 'https://www.bbc.com/news/world'\n",
    "page = requests.get(url)\n",
    "print('status', page.status_code)"
   ]
  },
  {
   "cell_type": "code",
   "execution_count": 3,
   "metadata": {},
   "outputs": [],
   "source": [
    "soup = BeautifulSoup(page.text)"
   ]
  },
  {
   "cell_type": "code",
   "execution_count": 4,
   "metadata": {},
   "outputs": [
    {
     "data": {
      "text/plain": [
       "'Biden cheers better-than-expected midterms results'"
      ]
     },
     "execution_count": 4,
     "metadata": {},
     "output_type": "execute_result"
    }
   ],
   "source": [
    "headings = soup.find_all('h3')\n",
    "headings[2].text"
   ]
  },
  {
   "cell_type": "code",
   "execution_count": 5,
   "metadata": {},
   "outputs": [
    {
     "name": "stdout",
     "output_type": "stream",
     "text": [
      "Ukraine cautious over Russian withdrawal from key city\n",
      "Ukraine cautious over Russian withdrawal from key city\n",
      "Biden cheers better-than-expected midterms results\n",
      "US estimates 200,000 casualties in Ukraine war\n",
      "Fossil fuel delegates spike at climate summit\n",
      "Top Iranian actress poses without headscarf\n",
      "Champion of Chinese political reform dies at 90\n",
      "Indonesia plane crash partly blamed on pilot error\n",
      "Ukraine cautious over Russian withdrawal from key city\n",
      "Biden cheers better-than-expected midterms results\n",
      "US estimates 200,000 casualties in Ukraine war\n",
      "Fossil fuel delegates spike at climate summit\n",
      "Top Iranian actress poses without headscarf\n",
      "Champion of Chinese political reform dies at 90\n",
      "Indonesia plane crash partly blamed on pilot error\n",
      "Biden cheers better-than-expected midterms results\n",
      "US estimates 200,000 casualties in Ukraine war\n",
      "Fossil fuel delegates spike at climate summit\n",
      "Top Iranian actress poses without headscarf\n",
      "Champion of Chinese political reform dies at 90\n",
      "Indonesia plane crash partly blamed on pilot error\n",
      "Late Microsoft boss's art fetches record $1.5bn\n",
      "Harsher sentence for wife of spy convicted in US\n",
      "Film on India women in Islamic State sparks row\n",
      "Abortion records released after Australia data hack\n",
      "UK-Swiss science deal as both barred from EU scheme\n",
      "Muna got a fresh start, thanks to Phoebe Bridgers\n",
      "God of War: How to improve a 'masterpiece'\n",
      "Iranian protesters look to outside world for help\n",
      "The shops that connect people with their home countries\n",
      "The oil project being called a sin\n",
      "Moment UN chief realises he's reading the wrong speech\n",
      "Biden chuckles at thought of Trump running again\n",
      "The story of US election night in 60 seconds\n",
      "Inside the BBC's Washington DC newsroom on election night\n",
      "Egyptian MP confronts sister of jailed activist\n",
      "Musk tells Twitter staff remote working will end\n",
      "Abdel Fattah given 'medical intervention' - family\n",
      "230,000 children sing Wales' song for World Cup\n",
      "Indonesia plane crash partly blamed on pilot error\n",
      "South Africa civil servants go on strike over wages\n",
      "Champion of Chinese political reform dies at 90\n",
      "Court drops $60m corruption case against Kenya VP\n",
      "US estimates 200,000 casualties in Ukraine war\n",
      "DR Congo rebel forces kill two, kidnap 10 others\n",
      "Moment UN chief realises he's reading the wrong speech\n",
      "Burkina Faso PM reshuffles ministers amid protests\n",
      "UK-Swiss science deal as both barred from EU scheme\n",
      "Ukraine cautious over Russian withdrawal from key city\n",
      "Tanzanian airport reopens after deadly crash\n",
      "Film on India women in Islamic State sparks row\n",
      "Council to buy homes for Ukrainian refugees\n",
      "'It was hell on earth'\n",
      "Uni student fears her country could disappear\n",
      "Warrant issued for arrest of 'Scorpion' crime boss\n",
      "'Tell us where mum is', says daughter of murder victim\n",
      "The doctors prescribing 'blue' therapy\n",
      "The exes trapped in shared homes\n",
      "England's remote Atlantic Highway\n",
      "How a 90s ballad captivated the world\n",
      "How to avoid bad choices\n",
      "The non-verbal rules for digital life\n",
      "The island that takes 11 days to reach\n",
      "News daily newsletter\n",
      "Mobile app\n",
      "Get in touch\n"
     ]
    }
   ],
   "source": [
    "for heading in headings:\n",
    "    print(heading.text)"
   ]
  },
  {
   "cell_type": "markdown",
   "metadata": {},
   "source": [
    "# News bot for headline extraction "
   ]
  },
  {
   "cell_type": "code",
   "execution_count": 6,
   "metadata": {},
   "outputs": [],
   "source": [
    "# function to get the news page from the web url as soup object\n",
    "def get(url):\n",
    "    page = requests.get(url)\n",
    "    if page.status_code == 200:\n",
    "        return BeautifulSoup(page.text)\n",
    "    else:\n",
    "        print('Error: ', page.status_code)\n",
    "        return None"
   ]
  },
  {
   "cell_type": "code",
   "execution_count": 7,
   "metadata": {},
   "outputs": [],
   "source": [
    "url = 'https://www.ndtv.com/latest'\n",
    "soup = get(url)"
   ]
  },
  {
   "cell_type": "code",
   "execution_count": 8,
   "metadata": {},
   "outputs": [
    {
     "name": "stdout",
     "output_type": "stream",
     "text": [
      "target found\n"
     ]
    }
   ],
   "source": [
    "# 1. get the targeted section\n",
    "target = soup.find('div', class_ = 'lisingNews')\n",
    "if target is not None:\n",
    "    print('target found')\n",
    "else:\n",
    "    print('target not found')"
   ]
  },
  {
   "cell_type": "code",
   "execution_count": 9,
   "metadata": {},
   "outputs": [
    {
     "name": "stdout",
     "output_type": "stream",
     "text": [
      "total news:  17\n"
     ]
    }
   ],
   "source": [
    "# 2. get all the news headlines from the targeted section\n",
    "news = target.find_all('div', class_ = 'news_Itm')\n",
    "print('total news: ', len(news))"
   ]
  },
  {
   "cell_type": "code",
   "execution_count": 12,
   "metadata": {},
   "outputs": [
    {
     "name": "stdout",
     "output_type": "stream",
     "text": [
      "India vs England: ICC T20 World Cup 2022 Live Cricket Score, Live Score Of Today's Match on NDTV SportsNDTVSports   | Thursday November 10, 2022                                                        \n",
      "                                                        Live Updates of Today Match between India vs England from Adelaide Oval, Adelaide. Check commentary and full scoreboard of the match.\n"
     ]
    }
   ],
   "source": [
    "# 3. extract the news headline and news link from the news\n",
    "for n in news:\n",
    "    print(n.text)\n",
    "    break"
   ]
  },
  {
   "cell_type": "code",
   "execution_count": null,
   "metadata": {},
   "outputs": [],
   "source": []
  }
 ],
 "metadata": {
  "kernelspec": {
   "display_name": "Python 3.9.12 ('base')",
   "language": "python",
   "name": "python3"
  },
  "language_info": {
   "codemirror_mode": {
    "name": "ipython",
    "version": 3
   },
   "file_extension": ".py",
   "mimetype": "text/x-python",
   "name": "python",
   "nbconvert_exporter": "python",
   "pygments_lexer": "ipython3",
   "version": "3.9.12"
  },
  "orig_nbformat": 4,
  "vscode": {
   "interpreter": {
    "hash": "7ef04f21735b3f21c0dd1368c629c7e37adc5b4b69c1d65d08185b18640d61ae"
   }
  }
 },
 "nbformat": 4,
 "nbformat_minor": 2
}
