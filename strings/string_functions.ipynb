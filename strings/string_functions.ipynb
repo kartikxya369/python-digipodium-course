{
 "cells": [
  {
   "cell_type": "code",
   "execution_count": 1,
   "metadata": {},
   "outputs": [],
   "source": [
    "msg = '''The updated Google Search experience was one of several changes\n",
    "the company announced today at its Search On event. Google's own research\n",
    "showed that almost 40% of young people would often just search TikTok or\n",
    "Instagram to find a place to for lunch, instead of Google or Google Maps.\n",
    "'''"
   ]
  },
  {
   "cell_type": "code",
   "execution_count": 2,
   "metadata": {},
   "outputs": [
    {
     "name": "stdout",
     "output_type": "stream",
     "text": [
      "total characters:285\n"
     ]
    }
   ],
   "source": [
    "chars = len(msg)\n",
    "print(f'total characters:{chars}')"
   ]
  },
  {
   "cell_type": "markdown",
   "metadata": {},
   "source": [
    "- string has following method types\n",
    "    - formatting methods\n",
    "    - utility methods\n",
    "    - validation methods "
   ]
  },
  {
   "cell_type": "code",
   "execution_count": 3,
   "metadata": {},
   "outputs": [
    {
     "data": {
      "text/plain": [
       "26"
      ]
     },
     "execution_count": 3,
     "metadata": {},
     "output_type": "execute_result"
    }
   ],
   "source": [
    "msg.find('experience')"
   ]
  },
  {
   "cell_type": "code",
   "execution_count": 4,
   "metadata": {},
   "outputs": [
    {
     "data": {
      "text/plain": [
       "-1"
      ]
     },
     "execution_count": 4,
     "metadata": {},
     "output_type": "execute_result"
    }
   ],
   "source": [
    "msg.find('poogle')"
   ]
  },
  {
   "cell_type": "code",
   "execution_count": 5,
   "metadata": {},
   "outputs": [
    {
     "data": {
      "text/plain": [
       "272"
      ]
     },
     "execution_count": 5,
     "metadata": {},
     "output_type": "execute_result"
    }
   ],
   "source": [
    "msg.rfind('Google')"
   ]
  },
  {
   "cell_type": "code",
   "execution_count": 6,
   "metadata": {},
   "outputs": [
    {
     "data": {
      "text/plain": [
       "\"experience was one of several changes\\nthe company announced today at its Search On event. Google's own research\\nshowed that almost 40% of young people would often just search TikTok or\\nInstagram to find a place to for lunch, instead of Google or Google Maps.\\n\""
      ]
     },
     "execution_count": 6,
     "metadata": {},
     "output_type": "execute_result"
    }
   ],
   "source": [
    "idx = msg.find('experience')\n",
    "msg[idx:]"
   ]
  },
  {
   "cell_type": "code",
   "execution_count": 7,
   "metadata": {},
   "outputs": [
    {
     "name": "stdout",
     "output_type": "stream",
     "text": [
      "The updated Google Search experience was one of several changes\n",
      "the company announced today at its Search On event. Google's own research\n",
      "showed that almost 40% of young people would often just search TikTok or\n",
      "Instagram to find a place to for lunch, instead of Google or Google Maps.\n",
      "\n"
     ]
    }
   ],
   "source": [
    "print(msg)"
   ]
  },
  {
   "cell_type": "code",
   "execution_count": 8,
   "metadata": {},
   "outputs": [
    {
     "name": "stdout",
     "output_type": "stream",
     "text": [
      "The updated Microsoft Search experience was one of several changes\n",
      "the company announced today at its Search On event. Microsoft's own research\n",
      "showed that almost 40% of young people would often just search TikTok or\n",
      "Instagram to find a place to for lunch, instead of Microsoft or Microsoft Maps.\n",
      "\n"
     ]
    }
   ],
   "source": [
    "result = msg.replace(\"Google\",\"Microsoft\")\n",
    "print(result)"
   ]
  },
  {
   "cell_type": "code",
   "execution_count": 9,
   "metadata": {},
   "outputs": [
    {
     "name": "stdout",
     "output_type": "stream",
     "text": [
      "Result = The updated Meta Rescue experience is one of several changes\n",
      "the company announced today at its Rescue On event. Meta's own research\n",
      "showed that almost 40% of young people would often just search TikTok or\n",
      "Instagram to find a place to for lunch, instead of Meta or Meta Maps.\n",
      "\n"
     ]
    }
   ],
   "source": [
    "result2 = msg.replace('was','is').replace('Search',\"Rescue\").replace(\"Google\",\"Meta\")\n",
    "print(f'Result = {result2}')"
   ]
  },
  {
   "cell_type": "code",
   "execution_count": 10,
   "metadata": {},
   "outputs": [
    {
     "data": {
      "text/plain": [
       "20"
      ]
     },
     "execution_count": 10,
     "metadata": {},
     "output_type": "execute_result"
    }
   ],
   "source": [
    "msg.count('a')"
   ]
  },
  {
   "cell_type": "code",
   "execution_count": 11,
   "metadata": {},
   "outputs": [
    {
     "data": {
      "text/plain": [
       "4"
      ]
     },
     "execution_count": 11,
     "metadata": {},
     "output_type": "execute_result"
    }
   ],
   "source": [
    "msg.count('Google')"
   ]
  },
  {
   "cell_type": "code",
   "execution_count": 14,
   "metadata": {},
   "outputs": [
    {
     "name": "stdout",
     "output_type": "stream",
     "text": [
      "['The', 'updated', 'Google', 'Search', 'experience', 'was', 'one', 'of', 'several', 'changes', 'the', 'company', 'announced', 'today', 'at', 'its', 'Search', 'On', 'event.', \"Google's\", 'own', 'research', 'showed', 'that', 'almost', '40%', 'of', 'young', 'people', 'would', 'often', 'just', 'search', 'TikTok', 'or', 'Instagram', 'to', 'find', 'a', 'place', 'to', 'for', 'lunch,', 'instead', 'of', 'Google', 'or', 'Google', 'Maps.']\n"
     ]
    }
   ],
   "source": [
    "words=msg.split()\n",
    "print(words)"
   ]
  },
  {
   "cell_type": "code",
   "execution_count": 16,
   "metadata": {},
   "outputs": [
    {
     "name": "stdout",
     "output_type": "stream",
     "text": [
      "['The updated Google Search experience was one of several changes', \"the company announced today at its Search On event. Google's own research\", 'showed that almost 40% of young people would often just search TikTok or', 'Instagram to find a place to for lunch, instead of Google or Google Maps.']\n"
     ]
    }
   ],
   "source": [
    "lines = msg.splitlines()\n",
    "print(lines)"
   ]
  },
  {
   "cell_type": "code",
   "execution_count": 17,
   "metadata": {},
   "outputs": [
    {
     "data": {
      "text/plain": [
       "[\"The updated Google Search experience was one of several changes\\nthe company announced today at its Search On event. Google's own research\\nshowed that almost 40% of young people would often just search TikTok or\\nInstagram to find a place to for lunch\",\n",
       " ' instead of Google or Google Maps.\\n']"
      ]
     },
     "execution_count": 17,
     "metadata": {},
     "output_type": "execute_result"
    }
   ],
   "source": [
    "msg.split(',')"
   ]
  },
  {
   "cell_type": "code",
   "execution_count": 21,
   "metadata": {},
   "outputs": [
    {
     "name": "stdout",
     "output_type": "stream",
     "text": [
      "['Amar', ' Akbar', ' Anthony', ' Vijay', ' Deenanath']\n",
      "name-> Amar\n",
      "name->  Akbar\n",
      "name->  Anthony\n",
      "name->  Vijay\n",
      "name->  Deenanath\n"
     ]
    }
   ],
   "source": [
    "names = \"Amar, Akbar, Anthony, Vijay, Deenanath\" # str\n",
    "name_list = names.split(\",\") # list\n",
    "\n",
    "for nm in name_list:\n",
    "    print('name->',nm)"
   ]
  },
  {
   "cell_type": "code",
   "execution_count": 22,
   "metadata": {},
   "outputs": [
    {
     "name": "stdout",
     "output_type": "stream",
     "text": [
      "['mobile', 'laptop', 'charger', 'usbcable', 'bag']\n"
     ]
    }
   ],
   "source": [
    "# split\n",
    "items = input(\"enter 5 items seperated by space\").split()\n",
    "print(items)"
   ]
  },
  {
   "cell_type": "code",
   "execution_count": 32,
   "metadata": {},
   "outputs": [
    {
     "name": "stdout",
     "output_type": "stream",
     "text": [
      "Python -m textblob\n",
      "Python, -m, textblob\n",
      "Python-mtextblob\n",
      "Python_O_-m_O_textblob\n"
     ]
    }
   ],
   "source": [
    "data_list = ['Python','-m','textblob']\n",
    "\n",
    "result = \" \".join(data_list)\n",
    "print(result)\n",
    "result = \", \".join(data_list)\n",
    "print(result)\n",
    "result = \"\".join(data_list)\n",
    "print(result)\n",
    "result = \"_O_\".join(data_list)\n",
    "print(result)"
   ]
  },
  {
   "cell_type": "code",
   "execution_count": 34,
   "metadata": {},
   "outputs": [
    {
     "name": "stdout",
     "output_type": "stream",
     "text": [
      "THE UPDATED GOOGLE SEARCH EXPERIENCE WAS ONE OF SEVERAL CHANGES\n",
      "THE COMPANY ANNOUNCED TODAY AT ITS SEARCH ON EVENT. GOOGLE'S OWN RESEARCH\n",
      "SHOWED THAT ALMOST 40% OF YOUNG PEOPLE WOULD OFTEN JUST SEARCH TIKTOK OR\n",
      "INSTAGRAM TO FIND A PLACE TO FOR LUNCH, INSTEAD OF GOOGLE OR GOOGLE MAPS.\n",
      "\n"
     ]
    }
   ],
   "source": [
    "print(msg.upper())"
   ]
  },
  {
   "cell_type": "code",
   "execution_count": 38,
   "metadata": {},
   "outputs": [
    {
     "name": "stdout",
     "output_type": "stream",
     "text": [
      "THE UPDATED GOOGLE SEARCH EXPERIENCE WAS ONE OF SEVERAL CHANGES\n",
      "THE COMPANY ANNOUNCED TODAY AT ITS SEARCH ON EVENT. GOOGLE'S OWN RESEARCH\n",
      "SHOWED THAT ALMOST 40% OF YOUNG PEOPLE WOULD OFTEN JUST SEARCH TIKTOK OR\n",
      "INSTAGRAM TO FIND A PLACE TO FOR LUNCH, INSTEAD OF GOOGLE OR GOOGLE MAPS.\n",
      "\n"
     ]
    }
   ],
   "source": [
    "result = msg.upper()\n",
    "print(result)"
   ]
  },
  {
   "cell_type": "code",
   "execution_count": 39,
   "metadata": {},
   "outputs": [
    {
     "name": "stdout",
     "output_type": "stream",
     "text": [
      "The Updated Google Search Experience Was One Of Several Changes\n",
      "The Company Announced Today At Its Search On Event. Google'S Own Research\n",
      "Showed That Almost 40% Of Young People Would Often Just Search Tiktok Or\n",
      "Instagram To Find A Place To For Lunch, Instead Of Google Or Google Maps.\n",
      "\n"
     ]
    }
   ],
   "source": [
    "result = msg.title()\n",
    "print(result)"
   ]
  },
  {
   "cell_type": "code",
   "execution_count": 40,
   "metadata": {},
   "outputs": [
    {
     "name": "stdout",
     "output_type": "stream",
     "text": [
      "The updated google search experience was one of several changes\n",
      "the company announced today at its search on event. google's own research\n",
      "showed that almost 40% of young people would often just search tiktok or\n",
      "instagram to find a place to for lunch, instead of google or google maps.\n",
      "\n"
     ]
    }
   ],
   "source": [
    "result = msg.capitalize()\n",
    "print(result)"
   ]
  },
  {
   "cell_type": "code",
   "execution_count": 41,
   "metadata": {},
   "outputs": [
    {
     "name": "stdout",
     "output_type": "stream",
     "text": [
      "the updated google search experience was one of several changes\n",
      "the company announced today at its search on event. google's own research\n",
      "showed that almost 40% of young people would often just search tiktok or\n",
      "instagram to find a place to for lunch, instead of google or google maps.\n",
      "\n"
     ]
    }
   ],
   "source": [
    "result = msg.lower()\n",
    "print(result)"
   ]
  },
  {
   "cell_type": "code",
   "execution_count": 44,
   "metadata": {},
   "outputs": [
    {
     "name": "stdout",
     "output_type": "stream",
     "text": [
      "tHE UPDATED gOOGLE sEARCH EXPERIENCE WAS ONE OF SEVERAL CHANGES\n",
      "THE COMPANY ANNOUNCED TODAY AT ITS sEARCH oN EVENT. gOOGLE'S OWN RESEARCH\n",
      "SHOWED THAT ALMOST 40% OF YOUNG PEOPLE WOULD OFTEN JUST SEARCH tIKtOK OR\n",
      "iNSTAGRAM TO FIND A PLACE TO FOR LUNCH, INSTEAD OF gOOGLE OR gOOGLE mAPS.\n",
      "\n"
     ]
    }
   ],
   "source": [
    "result = msg.swapcase()\n",
    "print(result)"
   ]
  },
  {
   "cell_type": "code",
   "execution_count": 47,
   "metadata": {},
   "outputs": [
    {
     "name": "stdout",
     "output_type": "stream",
     "text": [
      "tHE uPDATED MICROSOFT sEARCH eXPERIENCE wAS oNE oF sEVERAL cHANGES\n",
      "tHE cOMPANY aNNOUNCED tODAY aT iTS sEARCH oN eVENT. MICROSOFT's oWN rESEARCH\n",
      "sHOWED tHAT aLMOST 40% oF yOUNG pEOPLE wOULD oFTEN jUST sEARCH tIKTOK oR\n",
      "iNSTAGRAM tO fIND a pLACE tO fOR lUNCH, iNSTEAD oF MICROSOFT oR MICROSOFT mAPS.\n",
      "\n"
     ]
    }
   ],
   "source": [
    "print(msg.title().swapcase().replace('gOOGLE','MICROSOFT'))"
   ]
  },
  {
   "cell_type": "code",
   "execution_count": null,
   "metadata": {},
   "outputs": [],
   "source": []
  }
 ],
 "metadata": {
  "kernelspec": {
   "display_name": "Python 3.9.13 ('base')",
   "language": "python",
   "name": "python3"
  },
  "language_info": {
   "codemirror_mode": {
    "name": "ipython",
    "version": 3
   },
   "file_extension": ".py",
   "mimetype": "text/x-python",
   "name": "python",
   "nbconvert_exporter": "python",
   "pygments_lexer": "ipython3",
   "version": "3.9.13"
  },
  "orig_nbformat": 4,
  "vscode": {
   "interpreter": {
    "hash": "203ec5af3e26acf3e3c83a4183d4b4efe59642f60e2721ccf6236536a59ece46"
   }
  }
 },
 "nbformat": 4,
 "nbformat_minor": 2
}
