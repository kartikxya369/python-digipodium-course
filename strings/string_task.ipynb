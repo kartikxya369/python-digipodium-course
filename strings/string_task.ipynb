{
 "cells": [
  {
   "cell_type": "code",
   "execution_count": 1,
   "metadata": {},
   "outputs": [
    {
     "name": "stdout",
     "output_type": "stream",
     "text": [
      "String example\n"
     ]
    }
   ],
   "source": [
    "# 1\n",
    "s = \"String example\"\n",
    "print(s)"
   ]
  },
  {
   "cell_type": "code",
   "execution_count": 4,
   "metadata": {},
   "outputs": [
    {
     "name": "stdout",
     "output_type": "stream",
     "text": [
      "11\n"
     ]
    }
   ],
   "source": [
    "# 2\n",
    "s = input(\"Enter something=>\")\n",
    "print(len(s))"
   ]
  },
  {
   "cell_type": "code",
   "execution_count": 6,
   "metadata": {},
   "outputs": [
    {
     "name": "stdout",
     "output_type": "stream",
     "text": [
      "great\n",
      "great\n"
     ]
    }
   ],
   "source": [
    "# 3\n",
    "sentence = 'Python is great'\n",
    "last_word = sentence[-5:] # slices the last 5 characters\n",
    "print(last_word)\n",
    "\n",
    "last_word_2 = sentence.split()[-1] # universal way to get the last word\n",
    "print(last_word_2) "
   ]
  },
  {
   "cell_type": "code",
   "execution_count": 7,
   "metadata": {},
   "outputs": [
    {
     "name": "stdout",
     "output_type": "stream",
     "text": [
      "python\n",
      "is\n",
      "everywhere\n"
     ]
    }
   ],
   "source": [
    "# 4 \n",
    "s = \"python is everywhere\"\n",
    "for word in s.split():\n",
    "    print(word)"
   ]
  },
  {
   "cell_type": "code",
   "execution_count": 11,
   "metadata": {},
   "outputs": [
    {
     "name": "stdout",
     "output_type": "stream",
     "text": [
      "!dlroW olleH a si sihT\n"
     ]
    }
   ],
   "source": [
    "# 5\n",
    "s = \"This is a Hello World!\"\n",
    "r = s[::-1] # reverse the string\n",
    "print(r)"
   ]
  },
  {
   "cell_type": "code",
   "execution_count": 14,
   "metadata": {},
   "outputs": [
    {
     "data": {
      "text/plain": [
       "'World! Hello a is This'"
      ]
     },
     "execution_count": 14,
     "metadata": {},
     "output_type": "execute_result"
    }
   ],
   "source": [
    "\" \".join(s.split()[::-1]) # gopals question on reverse words in a string"
   ]
  },
  {
   "cell_type": "code",
   "execution_count": 15,
   "metadata": {},
   "outputs": [
    {
     "data": {
      "text/plain": [
       "'HOW ARE YOU?'"
      ]
     },
     "execution_count": 15,
     "metadata": {},
     "output_type": "execute_result"
    }
   ],
   "source": [
    "# 6\n",
    "\"How are you?\".upper()"
   ]
  },
  {
   "cell_type": "code",
   "execution_count": 16,
   "metadata": {},
   "outputs": [
    {
     "name": "stdout",
     "output_type": "stream",
     "text": [
      "\n",
      "Once uploaded to github, you can access the notebook using the following link:\n",
      "blah blah blah\n",
      "the end\n",
      "\n"
     ]
    }
   ],
   "source": [
    "# 9\n",
    "data = '''\n",
    "Once uploaded to github, you can access the notebook using the following link:\n",
    "blah blah blah\n",
    "the end\n",
    "'''\n",
    "print(data)"
   ]
  },
  {
   "cell_type": "code",
   "execution_count": 20,
   "metadata": {},
   "outputs": [
    {
     "name": "stdout",
     "output_type": "stream",
     "text": [
      "to move to newline '\\n' is used.\n"
     ]
    }
   ],
   "source": [
    "# 10\n",
    "s =r\"to move to newline '\\n' is used.\" # r is for raw string\n",
    "print(s)"
   ]
  },
  {
   "cell_type": "code",
   "execution_count": 21,
   "metadata": {},
   "outputs": [
    {
     "data": {
      "text/plain": [
       "'####################'"
      ]
     },
     "execution_count": 21,
     "metadata": {},
     "output_type": "execute_result"
    }
   ],
   "source": [
    "'#' * 20"
   ]
  },
  {
   "cell_type": "code",
   "execution_count": 22,
   "metadata": {},
   "outputs": [
    {
     "data": {
      "text/plain": [
       "7"
      ]
     },
     "execution_count": 22,
     "metadata": {},
     "output_type": "execute_result"
    }
   ],
   "source": [
    "s = \"seventy seven is not seven eight\"\n",
    "s.count('e')"
   ]
  },
  {
   "cell_type": "code",
   "execution_count": 23,
   "metadata": {},
   "outputs": [
    {
     "name": "stdout",
     "output_type": "stream",
     "text": [
      "Once\n",
      "upon\n",
      "a\n",
      "Journey,\n",
      "there\n",
      "was\n",
      "a\n",
      "monkey\n"
     ]
    }
   ],
   "source": [
    "# 15\n",
    "s = input(\"Enter something=> \")\n",
    "for word in s.split():\n",
    "    print(word)"
   ]
  },
  {
   "cell_type": "code",
   "execution_count": 26,
   "metadata": {},
   "outputs": [
    {
     "name": "stdout",
     "output_type": "stream",
     "text": [
      "this is not a good string\n"
     ]
    }
   ],
   "source": [
    "# 19\n",
    "text = '   this is not a good string           '\n",
    "print(text.strip()) # strip removes leading and trailing spaces"
   ]
  },
  {
   "cell_type": "code",
   "execution_count": 28,
   "metadata": {},
   "outputs": [
    {
     "name": "stdout",
     "output_type": "stream",
     "text": [
      "You entered something else\n"
     ]
    }
   ],
   "source": [
    "# 18\n",
    "data = input(\"Kuch bhi likho=> \")\n",
    "if data.isnumeric():\n",
    "    print(\"You entered a number\")\n",
    "else:\n",
    "    print(\"You entered something else\")"
   ]
  },
  {
   "cell_type": "code",
   "execution_count": 31,
   "metadata": {},
   "outputs": [
    {
     "name": "stdout",
     "output_type": "stream",
     "text": [
      "Hakuna Matata\n",
      "found\n",
      "found\n"
     ]
    }
   ],
   "source": [
    "# 20\n",
    "data = input(\"Kuch bhi likho=> \")\n",
    "print(data)\n",
    "for c in data:\n",
    "    if c.isupper():\n",
    "        print(\"found\")"
   ]
  },
  {
   "cell_type": "code",
   "execution_count": 43,
   "metadata": {},
   "outputs": [
    {
     "data": {
      "text/plain": [
       "['Joe', 'David', 'Mark', 'Tom', 'Chris', 'Robert']"
      ]
     },
     "execution_count": 43,
     "metadata": {},
     "output_type": "execute_result"
    }
   ],
   "source": [
    "# 21\n",
    "names = 'Joe, David, Mark, Tom, Chris, Robert'\n",
    "names.split(', ')"
   ]
  },
  {
   "cell_type": "code",
   "execution_count": 45,
   "metadata": {},
   "outputs": [
    {
     "name": "stdout",
     "output_type": "stream",
     "text": [
      "thisaye isaye someaye textaye "
     ]
    }
   ],
   "source": [
    "# 22\n",
    "text = 'this is some text'\n",
    "for word in text.split():\n",
    "    print(word+\"aye\" , end=\" \")"
   ]
  },
  {
   "cell_type": "code",
   "execution_count": 44,
   "metadata": {},
   "outputs": [
    {
     "name": "stdout",
     "output_type": "stream",
     "text": [
      "fyi found\n"
     ]
    }
   ],
   "source": [
    "# 23\n",
    "s = input('enter some data=> ')\n",
    "if 'fyi' in s.lower():\n",
    "    print(\"fyi found\")"
   ]
  },
  {
   "cell_type": "code",
   "execution_count": 46,
   "metadata": {},
   "outputs": [
    {
     "name": "stdout",
     "output_type": "stream",
     "text": [
      "p34yt68hon404\n"
     ]
    }
   ],
   "source": [
    "# 24\n",
    "text = '%p34@y!*-*!t68h#&on404'\n",
    "spe = '!@#$%^&*()-+~`_=,./<>?'\n",
    "for char in spe:\n",
    "    text = text.replace(char, '')\n",
    "print(text)"
   ]
  },
  {
   "cell_type": "code",
   "execution_count": 47,
   "metadata": {},
   "outputs": [
    {
     "name": "stdout",
     "output_type": "stream",
     "text": [
      "!\"#$%&'()*+,-./:;<=>?@[\\]^_`{|}~\n"
     ]
    }
   ],
   "source": [
    "from string import punctuation\n",
    "print(punctuation)"
   ]
  },
  {
   "cell_type": "code",
   "execution_count": 62,
   "metadata": {},
   "outputs": [
    {
     "name": "stdout",
     "output_type": "stream",
     "text": [
      "average word size=> 5\n"
     ]
    }
   ],
   "source": [
    "# 25\n",
    "paragraph ='this is a paragraph which is written just for the purpose of providing content to let the average word length be calculated'\n",
    "words = paragraph.split()           # split the paragraph into words\n",
    "total_words = len(words)            # total words in the paragraph\n",
    "wlt = 0                             # word length total\n",
    "for w in words:                  # iterate over each word\n",
    "    wlt += len(w)                # add the length of each word to the total\n",
    "print(\"average word size=>\", round(wlt/total_words))    # print the average word size\n"
   ]
  },
  {
   "cell_type": "markdown",
   "metadata": {},
   "source": [
    "```\n",
    "#################\n",
    "#################\n",
    "            #####\n",
    "          #####\n",
    "        #####\n",
    "      #####\n",
    "    #####\n",
    "  #####\n",
    "#####\n",
    "#################\n",
    "#################\n",
    "```"
   ]
  },
  {
   "cell_type": "code",
   "execution_count": 79,
   "metadata": {},
   "outputs": [
    {
     "name": "stdout",
     "output_type": "stream",
     "text": [
      "####################\n",
      "####################\n",
      "             #####\n",
      "           #####\n",
      "         #####\n",
      "       #####\n",
      "     #####\n",
      "   #####\n",
      " #####\n",
      "####################\n",
      "####################\n"
     ]
    }
   ],
   "source": [
    "sp = 13\n",
    "for i in range(2):\n",
    "    print('#'*20)\n",
    "for i in range(7):\n",
    "    print(' '*(sp-i*2) +'#'*5)\n",
    "for i in range(2):\n",
    "    print('#'*20)\n"
   ]
  },
  {
   "cell_type": "code",
   "execution_count": 66,
   "metadata": {},
   "outputs": [
    {
     "data": {
      "text/plain": [
       "(233, 234)"
      ]
     },
     "execution_count": 66,
     "metadata": {},
     "output_type": "execute_result"
    }
   ],
   "source": [
    "from math import floor, ceil\n",
    "from statistics import stdev\n",
    "\n",
    "floor(233.81) , ceil(233.81)\n"
   ]
  },
  {
   "cell_type": "code",
   "execution_count": null,
   "metadata": {},
   "outputs": [],
   "source": []
  }
 ],
 "metadata": {
  "kernelspec": {
   "display_name": "Python 3.9.13 ('base')",
   "language": "python",
   "name": "python3"
  },
  "language_info": {
   "codemirror_mode": {
    "name": "ipython",
    "version": 3
   },
   "file_extension": ".py",
   "mimetype": "text/x-python",
   "name": "python",
   "nbconvert_exporter": "python",
   "pygments_lexer": "ipython3",
   "version": "3.9.13"
  },
  "orig_nbformat": 4,
  "vscode": {
   "interpreter": {
    "hash": "203ec5af3e26acf3e3c83a4183d4b4efe59642f60e2721ccf6236536a59ece46"
   }
  }
 },
 "nbformat": 4,
 "nbformat_minor": 2
}
